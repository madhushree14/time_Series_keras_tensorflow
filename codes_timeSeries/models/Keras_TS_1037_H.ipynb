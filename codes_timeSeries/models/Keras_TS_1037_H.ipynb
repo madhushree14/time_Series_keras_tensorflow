{
 "cells": [
  {
   "cell_type": "code",
   "execution_count": 1,
   "id": "future-advantage",
   "metadata": {},
   "outputs": [],
   "source": [
    "# import torch\n",
    "import glob\n",
    "import numpy as np\n",
    "import pandas as pd\n",
    "from math import sqrt\n",
    "from datetime import datetime\n",
    "from matplotlib import pyplot\n",
    "from pandas.core.common import flatten\n",
    "\n",
    "# from torch import nn, optim\n",
    "from pickle import dump\n",
    "from pickle import load\n",
    "from tensorflow.keras import Sequential\n",
    "from tensorflow.keras.layers import LSTM\n",
    "from tensorflow.keras.layers import Dense\n",
    "from tensorflow.keras.layers import Dropout\n",
    "from sklearn.preprocessing import MinMaxScaler\n",
    "from tensorflow.keras.utils import plot_model\n",
    "from tensorflow.keras.models import load_model\n",
    "from tensorflow.keras.callbacks import TensorBoard\n",
    "from tensorflow.keras.callbacks import EarlyStopping\n",
    "from tensorflow.keras.layers import BatchNormalization"
   ]
  },
  {
   "cell_type": "code",
   "execution_count": 2,
   "id": "internal-billion",
   "metadata": {},
   "outputs": [],
   "source": [
    "valves = [\"20-LV-1031_Z_X_Value\", \"20-LV-1031_Z_Y_Value\", \"20-LV-1034_Z_X_Value\",\n",
    "              \"20-LV-1034_Z_Y_Value\", \"20-PV-1037_Z_X_Value\", \"20-PV-1037_Z_Y_Value\"]"
   ]
  },
  {
   "cell_type": "code",
   "execution_count": 3,
   "id": "complex-pearl",
   "metadata": {},
   "outputs": [],
   "source": [
    "alarm = '1037_H'"
   ]
  },
  {
   "cell_type": "code",
   "execution_count": 4,
   "id": "appropriate-environment",
   "metadata": {},
   "outputs": [],
   "source": [
    "def create_df(valve_name):\n",
    "    \"\"\" Returns a dataset of specific valve column.\"\"\"\n",
    "    \n",
    "    dfs = {file.split(\"_\")[-4]: pd.read_pickle(file) for file in \\\n",
    "           glob.glob(\"S:\\SRH\\BDBA_Sem_2\\Case_study_1\\data\\*.pkl\")}\n",
    "    \n",
    "    dfs_sorted = dict(sorted(dfs.items()))\n",
    "    df_single = pd.concat(dfs_sorted, axis=0)\n",
    "\n",
    "    valve_df = df_single.filter([valve_name])\n",
    "    valve_df = valve_df.droplevel(0, axis=0)\n",
    "    return valve_df"
   ]
  },
  {
   "cell_type": "code",
   "execution_count": 6,
   "id": "christian-pioneer",
   "metadata": {},
   "outputs": [],
   "source": [
    "valve_df = create_df('20-PV-1037_Z_X_Value')"
   ]
  },
  {
   "cell_type": "code",
   "execution_count": 7,
   "id": "genetic-omega",
   "metadata": {},
   "outputs": [],
   "source": [
    "def preprocessed_df(df, val_pct):\n",
    "    \"\"\" Creates train, validation and test set after applying normalisation of all feature cols\n",
    "    Args:\n",
    "    df: dataframe object\n",
    "    val_pct: percentage size of validation plus test size (float)\n",
    "    \"\"\"\n",
    "    \n",
    "    val_data_size = round(df.shape[0] * 0.3)\n",
    "    test_data_size = round(val_data_size * 0.1)\n",
    "    \n",
    "    train_data = df[:-val_data_size]\n",
    "    val_data = df[-val_data_size:-test_data_size]\n",
    "    test_data = df[-test_data_size:]\n",
    "    \n",
    "    # Scaling the data\n",
    "    scalar = MinMaxScaler()\n",
    "    scalar.fit(train_data.values.reshape(-1,1)) # sklearn scalars accepts 2d arrays to scale hence reshaping the data\n",
    "    # save the scaler\n",
    "    dump(scalar, open('model_objects_'+alarm+'\\scaler_ts.pkl', 'wb'))\n",
    "\n",
    "    train_scaled = scalar.transform(train_data.values.reshape(-1,1)) # pandas does'nt have .reshape() hence by calling the values and then applying underlying numpy reshape\n",
    "    val_scaled = scalar.transform(val_data.values.reshape(-1,1))\n",
    "    test_scaled = scalar.transform(test_data.values.reshape(-1,1))\n",
    "\n",
    "    df_train = pd.DataFrame(train_scaled)\n",
    "    df_val = pd.DataFrame(val_scaled)\n",
    "    df_test = pd.DataFrame(test_scaled)\n",
    "    \n",
    "    return df_train, df_val, df_test"
   ]
  },
  {
   "cell_type": "code",
   "execution_count": 8,
   "id": "united-decade",
   "metadata": {},
   "outputs": [],
   "source": [
    "df_train, df_val, df_test = preprocessed_df(valve_df, 0.3)"
   ]
  },
  {
   "cell_type": "code",
   "execution_count": 9,
   "id": "broadband-click",
   "metadata": {},
   "outputs": [],
   "source": [
    "# Creating small input sequences\n",
    "def input_sequence(data, seq_len):\n",
    "    \"\"\" Creates a small input sequence of a given seq length and \n",
    "        returns two numpy arrays asinpuy and output sequence\n",
    "        \n",
    "        Args:\n",
    "        data = input dataframe\n",
    "        seq_len = integer number\n",
    "\n",
    "        \"\"\"\n",
    "    input_x = []\n",
    "    output_y = []\n",
    "    \n",
    "    for i in range(len(data)-seq_len-1):\n",
    "        in_x = data[i:(i+seq_len)]\n",
    "        out_y = data[i+seq_len]\n",
    "        \n",
    "        input_x.append(in_x)\n",
    "        output_y.append(out_y)\n",
    "    \n",
    "    return np.array(input_x), np.array(output_y)"
   ]
  },
  {
   "cell_type": "code",
   "execution_count": 10,
   "id": "positive-sacrifice",
   "metadata": {},
   "outputs": [],
   "source": [
    "train_values = df_train.values.astype('float32')\n",
    "val_values = df_val.values.astype('float32')\n",
    "test_values = df_test.values.astype('float32')\n",
    "# specify the window size\n",
    "n_steps = 15\n",
    "# split into samples\n",
    "X_train, y_train = input_sequence(train_values, n_steps)\n",
    "X_val, y_val = input_sequence(val_values, n_steps)\n",
    "X_test, y_test = input_sequence(test_values, n_steps)\n",
    "# reshape into [samples, timesteps, features]\n",
    "X_train = X_train.reshape((X_train.shape[0], X_train.shape[1], 1))\n",
    "X_val = X_val.reshape((X_val.shape[0], X_val.shape[1], 1))\n",
    "X_test = X_test.reshape((X_test.shape[0], X_test.shape[1], 1))"
   ]
  },
  {
   "cell_type": "code",
   "execution_count": 11,
   "id": "laden-promise",
   "metadata": {},
   "outputs": [
    {
     "name": "stdout",
     "output_type": "stream",
     "text": [
      "(16673, 15, 1) (6422, 15, 1) (699, 15, 1) (16673, 1) (6422, 1) (699, 1)\n"
     ]
    }
   ],
   "source": [
    "print(X_train.shape, X_val.shape, X_test.shape, y_train.shape, y_val.shape, y_test.shape)"
   ]
  },
  {
   "cell_type": "code",
   "execution_count": 12,
   "id": "desirable-wildlife",
   "metadata": {},
   "outputs": [
    {
     "name": "stdout",
     "output_type": "stream",
     "text": [
      "Epoch 1/100\n",
      "522/522 - 19s - loss: 0.1493 - mae: 0.2211 - val_loss: 0.0078 - val_mae: 0.0741\n",
      "Epoch 2/100\n",
      "522/522 - 10s - loss: 0.0147 - mae: 0.0878 - val_loss: 0.0037 - val_mae: 0.0524\n",
      "Epoch 3/100\n",
      "522/522 - 10s - loss: 0.0116 - mae: 0.0790 - val_loss: 0.0025 - val_mae: 0.0399\n",
      "Epoch 4/100\n",
      "522/522 - 10s - loss: 0.0111 - mae: 0.0767 - val_loss: 0.0012 - val_mae: 0.0244\n",
      "Epoch 5/100\n",
      "522/522 - 10s - loss: 0.0099 - mae: 0.0725 - val_loss: 0.0030 - val_mae: 0.0441\n",
      "Epoch 6/100\n",
      "522/522 - 10s - loss: 0.0103 - mae: 0.0735 - val_loss: 9.8245e-04 - val_mae: 0.0210\n",
      "Epoch 7/100\n",
      "522/522 - 10s - loss: 0.0104 - mae: 0.0734 - val_loss: 0.0012 - val_mae: 0.0304\n",
      "Epoch 8/100\n",
      "522/522 - 10s - loss: 0.0107 - mae: 0.0757 - val_loss: 5.5969e-04 - val_mae: 0.0201\n",
      "Epoch 9/100\n",
      "522/522 - 10s - loss: 0.0106 - mae: 0.0751 - val_loss: 5.9734e-04 - val_mae: 0.0195\n",
      "Epoch 10/100\n",
      "522/522 - 10s - loss: 0.0109 - mae: 0.0759 - val_loss: 0.0031 - val_mae: 0.0457\n",
      "Epoch 11/100\n",
      "522/522 - 10s - loss: 0.0106 - mae: 0.0746 - val_loss: 5.0337e-04 - val_mae: 0.0144\n",
      "Epoch 12/100\n",
      "522/522 - 10s - loss: 0.0110 - mae: 0.0766 - val_loss: 9.2545e-04 - val_mae: 0.0253\n",
      "Epoch 13/100\n",
      "522/522 - 10s - loss: 0.0110 - mae: 0.0766 - val_loss: 7.7059e-04 - val_mae: 0.0235\n",
      "Epoch 14/100\n",
      "522/522 - 10s - loss: 0.0103 - mae: 0.0739 - val_loss: 0.0154 - val_mae: 0.0893\n",
      "Epoch 15/100\n",
      "522/522 - 10s - loss: 0.0106 - mae: 0.0747 - val_loss: 3.5856e-04 - val_mae: 0.0149\n",
      "Epoch 16/100\n",
      "522/522 - 10s - loss: 0.0111 - mae: 0.0764 - val_loss: 0.0020 - val_mae: 0.0386\n",
      "Epoch 17/100\n",
      "522/522 - 10s - loss: 0.0121 - mae: 0.0809 - val_loss: 0.0013 - val_mae: 0.0303\n",
      "Epoch 18/100\n",
      "522/522 - 10s - loss: 0.0118 - mae: 0.0795 - val_loss: 0.0018 - val_mae: 0.0352\n",
      "Epoch 19/100\n",
      "522/522 - 10s - loss: 0.0111 - mae: 0.0765 - val_loss: 5.7643e-04 - val_mae: 0.0207\n",
      "Epoch 20/100\n",
      "522/522 - 10s - loss: 0.0109 - mae: 0.0757 - val_loss: 9.1849e-04 - val_mae: 0.0267\n",
      "Epoch 21/100\n",
      "522/522 - 10s - loss: 0.0109 - mae: 0.0757 - val_loss: 3.6986e-04 - val_mae: 0.0166\n",
      "MSE: 0.000, RMSE: 0.016, MAE: 0.013\n"
     ]
    }
   ],
   "source": [
    "# define model\n",
    "model = Sequential()\n",
    "model.add(LSTM(100, activation='relu', kernel_initializer='he_normal', input_shape=(n_steps,1)))\n",
    "model.add(Dense(50, activation='relu', kernel_initializer='he_normal'))\n",
    "model.add(Dense(50, activation='relu', kernel_initializer='he_normal'))\n",
    "model.add(Dropout(0.5))\n",
    "model.add(BatchNormalization())\n",
    "model.add(Dense(1))\n",
    "\n",
    "# compile the model\n",
    "model.compile(optimizer='adam', loss='mse', metrics=['mae'])\n",
    "\n",
    "# configure early stopping\n",
    "es = EarlyStopping(monitor='val_loss', patience=6)\n",
    "    \n",
    "# Visualise model\n",
    "logdir = \"logs/ts_\"+alarm+\"/\" + datetime.now().strftime(\"%Y%m%d-%H%M%S\")\n",
    "tensorboard = TensorBoard(log_dir=logdir)\n",
    "\n",
    "\n",
    "# fit the model\n",
    "model_history = model.fit(X_train, y_train, epochs=100, batch_size=32, verbose=2, \n",
    "                            validation_data=(X_val, y_val), callbacks=[es, tensorboard])\n",
    "    \n",
    "# save model to file\n",
    "model.save('model_time_series_'+alarm+'.h5')\n",
    "    \n",
    "# evaluate the model\n",
    "mse, mae = model.evaluate(X_test, y_test, verbose=0)\n",
    "print('MSE: %.3f, RMSE: %.3f, MAE: %.3f' % (mse, sqrt(mse), mae))"
   ]
  },
  {
   "cell_type": "code",
   "execution_count": 17,
   "id": "chemical-opera",
   "metadata": {},
   "outputs": [],
   "source": [
    "# save model to file\n",
    "# model.save('model_time_series.h5')"
   ]
  },
  {
   "cell_type": "code",
   "execution_count": 29,
   "id": "global-respondent",
   "metadata": {},
   "outputs": [
    {
     "name": "stdout",
     "output_type": "stream",
     "text": [
      "Model: \"sequential\"\n",
      "_________________________________________________________________\n",
      "Layer (type)                 Output Shape              Param #   \n",
      "=================================================================\n",
      "lstm (LSTM)                  (None, 100)               40800     \n",
      "_________________________________________________________________\n",
      "dense (Dense)                (None, 50)                5050      \n",
      "_________________________________________________________________\n",
      "dense_1 (Dense)              (None, 50)                2550      \n",
      "_________________________________________________________________\n",
      "dropout (Dropout)            (None, 50)                0         \n",
      "_________________________________________________________________\n",
      "batch_normalization (BatchNo (None, 50)                200       \n",
      "_________________________________________________________________\n",
      "dense_2 (Dense)              (None, 1)                 51        \n",
      "=================================================================\n",
      "Total params: 48,651\n",
      "Trainable params: 48,551\n",
      "Non-trainable params: 100\n",
      "_________________________________________________________________\n"
     ]
    }
   ],
   "source": [
    "model.summary()"
   ]
  },
  {
   "cell_type": "code",
   "execution_count": 30,
   "id": "activated-commerce",
   "metadata": {},
   "outputs": [
    {
     "name": "stdout",
     "output_type": "stream",
     "text": [
      "('Failed to import pydot. You must `pip install pydot` and install graphviz (https://graphviz.gitlab.io/download/), ', 'for `pydotprint` to work.')\n"
     ]
    }
   ],
   "source": [
    "# summarize the model\n",
    "plot_model(model, 'model.png', show_shapes=True)"
   ]
  },
  {
   "cell_type": "code",
   "execution_count": 13,
   "id": "novel-works",
   "metadata": {},
   "outputs": [
    {
     "data": {
      "image/png": "[encoded data removed]",
      "text/plain": [
       "<Figure size 432x288 with 1 Axes>"
      ]
     },
     "metadata": {
      "needs_background": "light"
     },
     "output_type": "display_data"
    }
   ],
   "source": [
    "# plot learning curves\n",
    "pyplot.title(f'Learning Curves: {alarm}')\n",
    "pyplot.xlabel('Epoch')\n",
    "pyplot.ylabel('MSE')\n",
    "pyplot.plot(model_history.history['loss'], label='train')\n",
    "pyplot.plot(model_history.history['val_loss'], label='test')\n",
    "pyplot.legend()\n",
    "pyplot.show()"
   ]
  },
  {
   "cell_type": "code",
   "execution_count": 14,
   "id": "brief-cursor",
   "metadata": {},
   "outputs": [],
   "source": [
    "model = load_model('S:\\SRH\\BDBA_Sem_2\\Case_study_1\\models_caseStudy\\model_time_series_'+alarm+'.h5')"
   ]
  },
  {
   "cell_type": "code",
   "execution_count": 15,
   "id": "dramatic-millennium",
   "metadata": {},
   "outputs": [],
   "source": [
    "# load the scaler\n",
    "scalar = load(open('S:\\SRH\\BDBA_Sem_2\\Case_study_1\\models_caseStudy\\model_objects_'+alarm+'\\scaler_ts.pkl', 'rb'))"
   ]
  },
  {
   "cell_type": "code",
   "execution_count": 16,
   "id": "pressing-stock",
   "metadata": {},
   "outputs": [],
   "source": [
    "yhat = model.predict(X_test)\n",
    "yhat = scalar.inverse_transform(yhat)"
   ]
  },
  {
   "cell_type": "code",
   "execution_count": 17,
   "id": "moving-expansion",
   "metadata": {},
   "outputs": [
    {
     "data": {
      "image/png": "[encoded data removed]",
      "text/plain": [
       "<Figure size 432x288 with 1 Axes>"
      ]
     },
     "metadata": {
      "needs_background": "light"
     },
     "output_type": "display_data"
    }
   ],
   "source": [
    "pyplot.plot(scalar.inverse_transform(y_test), label=\"Actual\")\n",
    "pyplot.plot(yhat, label=\"Prediction\")\n",
    "pyplot.legend()\n",
    "pyplot.title(f'Predictions: {alarm}')\n",
    "pyplot.savefig(f'{alarm}.png')"
   ]
  },
  {
   "cell_type": "code",
   "execution_count": 41,
   "id": "allied-payday",
   "metadata": {},
   "outputs": [],
   "source": [
    "def is_alarm(pred_val, alarm_name):\n",
    "    \"\"\" This is a classification for alarm based on specific threshold value.\n",
    "    Args:\n",
    "    pred_val: list of predicted valve values\n",
    "    alarm_name: Name of the specific alarm\n",
    "    \"\"\"\n",
    "    threshold_dict = {\"1031_H\":2.2, \"1031_L\":1.5, \"1034_H\":0.9, \"1034_L\":0.7, \"1037_H\":24, \"1037_L\":21}\n",
    "    \n",
    "    is_alarm = [1 if val >= threshold_dict[alarm_name] else 0 for val in pred_val]\n",
    "    \n",
    "    return is_alarm  "
   ]
  },
  {
   "cell_type": "code",
   "execution_count": 1,
   "id": "relative-narrow",
   "metadata": {},
   "outputs": [],
   "source": [
    "# is_alarm(yhat, alarm)"
   ]
  },
  {
   "cell_type": "code",
   "execution_count": null,
   "id": "satisfactory-hawaii",
   "metadata": {},
   "outputs": [],
   "source": []
  }
 ],
 "metadata": {
  "kernelspec": {
   "display_name": "Python 3",
   "language": "python",
   "name": "python3"
  },
  "language_info": {
   "codemirror_mode": {
    "name": "ipython",
    "version": 3
   },
   "file_extension": ".py",
   "mimetype": "text/x-python",
   "name": "python",
   "nbconvert_exporter": "python",
   "pygments_lexer": "ipython3",
   "version": "3.8.3"
  }
 },
 "nbformat": 4,
 "nbformat_minor": 5
}

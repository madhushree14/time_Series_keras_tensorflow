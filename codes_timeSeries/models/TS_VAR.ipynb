{
 "cells": [
  {
   "cell_type": "code",
   "execution_count": 76,
   "id": "conservative-participation",
   "metadata": {},
   "outputs": [],
   "source": [
    "import glob\n",
    "import numpy as np\n",
    "import pandas as pd\n",
    "from math import sqrt\n",
    "from random import random\n",
    "from sklearn.metrics import mean_squared_error\n",
    "from sklearn.preprocessing import MinMaxScaler\n",
    "from statsmodels.tsa.api import VAR"
   ]
  },
  {
   "cell_type": "code",
   "execution_count": 41,
   "id": "cooperative-woman",
   "metadata": {},
   "outputs": [],
   "source": [
    "valves = [\"20-LV-1031_Z_X_Value\", \"20-LV-1031_Z_Y_Value\", \"20-LV-1034_Z_X_Value\",\n",
    "              \"20-LV-1034_Z_Y_Value\", \"20-PV-1037_Z_X_Value\", \"20-PV-1037_Z_Y_Value\"]\n",
    "dfs = {file.split(\"_\")[-4]: pd.read_pickle(file) for file in \\\n",
    "           glob.glob(\"S:\\SRH\\BDBA_Sem_2\\Case_study_1\\data\\*.pkl\")}\n",
    "    \n",
    "dfs_sorted = dict(sorted(dfs.items()))\n",
    "df_single = pd.concat(dfs_sorted, axis=0)\n",
    "valve_df = df_single.filter(valves)\n",
    "# valve_df = valve_df.droplevel(0, axis=0)"
   ]
  },
  {
   "cell_type": "code",
   "execution_count": 38,
   "id": "coral-nursery",
   "metadata": {},
   "outputs": [],
   "source": [
    "def preprocessed_df(df, val_pct):\n",
    "    \"\"\" Creates train, validation and test set after applying normalisation of all feature cols\n",
    "    Args:\n",
    "    df: dataframe object\n",
    "    val_pct: percentage size of validation plus test size (float)\n",
    "    \"\"\"\n",
    "    \n",
    "    val_data_size = round(df.shape[0] * 0.3)\n",
    "    test_data_size = round(val_data_size * 0.1)\n",
    "    \n",
    "    train_data = df[:-val_data_size]\n",
    "    val_data = df[-val_data_size:-test_data_size]\n",
    "    test_data = df[-test_data_size:]\n",
    "    \n",
    "    return train_data, val_data, test_data"
   ]
  },
  {
   "cell_type": "code",
   "execution_count": 39,
   "id": "complimentary-projector",
   "metadata": {},
   "outputs": [],
   "source": [
    "df_train, df_val, df_test = preprocessed_df(valve_df, 0.3)"
   ]
  },
  {
   "cell_type": "code",
   "execution_count": 68,
   "id": "southeast-return",
   "metadata": {
    "scrolled": true
   },
   "outputs": [
    {
     "name": "stderr",
     "output_type": "stream",
     "text": [
      "s:\\srh\\bdba_sem_2\\bigdata2\\git\\statsmodels\\statsmodels\\tsa\\base\\tsa_model.py:578: ValueWarning: An unsupported index was provided and will be ignored when e.g. forecasting.\n",
      "  warnings.warn('An unsupported index was provided and will be'\n"
     ]
    }
   ],
   "source": [
    "model = VAR(endog=df_train)\n",
    "model.select_order(15)\n",
    "results = model.fit(maxlags=15, ic='aic')\n",
    "lag_order = results.k_ar\n",
    "# make prediction on validation\n",
    "prediction = results.forecast(df_val.values[-lag_order:], steps=len(df_val))\n",
    "# results.plot_forecast(10)"
   ]
  },
  {
   "cell_type": "code",
   "execution_count": 69,
   "id": "amended-subcommittee",
   "metadata": {},
   "outputs": [
    {
     "name": "stdout",
     "output_type": "stream",
     "text": [
      "[[ 2.0358389  48.85068555  0.80322803 42.53197714 21.7976603  31.83912199]\n",
      " [ 2.03839547 49.38786287  0.80575659 42.34297744 21.82579703 31.69456884]\n",
      " [ 2.03833063 49.78368215  0.80820124 42.2168713  21.85399521 31.67140004]\n",
      " ...\n",
      " [ 1.84470835 61.0733276   0.78654044 61.68847803 17.96393622 55.33006348]\n",
      " [ 1.8446856  61.07645423  0.78654137 61.69335724 17.96286838 55.33680178]\n",
      " [ 1.84466298 61.07956866  0.78654229 61.69821744 17.96180473 55.34351376]]\n"
     ]
    }
   ],
   "source": [
    "#make final predictions on test data\n",
    "yhat = results.forecast(df_test.values[-lag_order:], steps=len(df_test))\n",
    "print(yhat)"
   ]
  },
  {
   "cell_type": "code",
   "execution_count": 73,
   "id": "restricted-drove",
   "metadata": {},
   "outputs": [],
   "source": [
    "#converting predictions to dataframe\n",
    "pred = pd.DataFrame(index=range(0,len(yhat)),columns=[valves])\n",
    "for j in range(0,6):\n",
    "    for i in range(0, len(yhat)):\n",
    "        pred.iloc[i][j] = yhat[i][j]"
   ]
  },
  {
   "cell_type": "code",
   "execution_count": 78,
   "id": "chemical-atlas",
   "metadata": {},
   "outputs": [
    {
     "name": "stdout",
     "output_type": "stream",
     "text": [
      "rmse value for 20-LV-1031_Z_X_Value is :  0.24805180567815505\n",
      "rmse value for 20-LV-1031_Z_Y_Value is :  8.18105484739458\n",
      "rmse value for 20-LV-1034_Z_X_Value is :  0.08317445232257809\n",
      "rmse value for 20-LV-1034_Z_Y_Value is :  11.675940411958102\n",
      "rmse value for 20-PV-1037_Z_X_Value is :  2.7260269775195645\n",
      "rmse value for 20-PV-1037_Z_Y_Value is :  14.884324699459327\n"
     ]
    }
   ],
   "source": [
    "#check rmse\n",
    "for i in valves:\n",
    "    print('rmse value for', i, 'is : ', sqrt(mean_squared_error(pred[i], df_test[i])))"
   ]
  },
  {
   "cell_type": "code",
   "execution_count": null,
   "id": "horizontal-syria",
   "metadata": {},
   "outputs": [],
   "source": []
  }
 ],
 "metadata": {
  "kernelspec": {
   "display_name": "Python 3",
   "language": "python",
   "name": "python3"
  },
  "language_info": {
   "codemirror_mode": {
    "name": "ipython",
    "version": 3
   },
   "file_extension": ".py",
   "mimetype": "text/x-python",
   "name": "python",
   "nbconvert_exporter": "python",
   "pygments_lexer": "ipython3",
   "version": "3.8.3"
  }
 },
 "nbformat": 4,
 "nbformat_minor": 5
}
